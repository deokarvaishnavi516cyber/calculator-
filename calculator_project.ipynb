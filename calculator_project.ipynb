{
 "cells": [
  {
   "cell_type": "code",
   "execution_count": null,
   "id": "48b96782-a54a-410c-a37f-284e48ddddcb",
   "metadata": {},
   "outputs": [],
   "source": [
    "import tkinter as tk\n",
    "\n",
    "def click(event):\n",
    "    text = event.widget.cget(\"text\")\n",
    "    if text == \"=\":\n",
    "        try:\n",
    "            result = eval(str(entry.get()))\n",
    "            entry_var.set(result)\n",
    "        except:\n",
    "            entry_var.set(\"Error\")\n",
    "    elif text == \"C\":\n",
    "        entry_var.set(\"\")\n",
    "    else:\n",
    "        entry_var.set(entry_var.get() + text)\n",
    "\n",
    "root = tk.Tk()\n",
    "root.geometry(\"300x400\")\n",
    "root.title(\"Simple Calculator\")\n",
    "\n",
    "entry_var = tk.StringVar()\n",
    "entry = tk.Entry(root, textvar=entry_var, font=\"Arial 20\", bd=10, relief=\"sunken\", justify='right')\n",
    "entry.pack(fill=tk.BOTH, ipadx=8, pady=10, padx=10)\n",
    "\n",
    "btn_frame = tk.Frame(root)\n",
    "btn_frame.pack()\n",
    "\n",
    "buttons = [\n",
    "    ['7', '8', '9', '/'],\n",
    "    ['4', '5', '6', '*'],\n",
    "    ['1', '2', '3', '-'],\n",
    "    ['C', '0', '=', '+']\n",
    "]\n",
    "\n",
    "for row in buttons:\n",
    "    row_frame = tk.Frame(btn_frame)\n",
    "    row_frame.pack(expand=True, fill='both')\n",
    "    for char in row:\n",
    "        btn = tk.Button(row_frame, text=char, font='Arial 18', relief='ridge')\n",
    "        btn.pack(side='left', expand=True, fill='both', padx=2, pady=2)\n",
    "        btn.bind(\"<Button-1>\", click)\n",
    "\n",
    "root.mainloop()\n"
   ]
  },
  {
   "cell_type": "code",
   "execution_count": null,
   "id": "0c2bf489-c124-41e1-bd39-9e0ba9ac2d89",
   "metadata": {},
   "outputs": [],
   "source": []
  }
 ],
 "metadata": {
  "kernelspec": {
   "display_name": "Python 3 (ipykernel)",
   "language": "python",
   "name": "python3"
  },
  "language_info": {
   "codemirror_mode": {
    "name": "ipython",
    "version": 3
   },
   "file_extension": ".py",
   "mimetype": "text/x-python",
   "name": "python",
   "nbconvert_exporter": "python",
   "pygments_lexer": "ipython3",
   "version": "3.13.5"
  },
  "widgets": {
   "application/vnd.jupyter.widget-state+json": {
    "state": {},
    "version_major": 2,
    "version_minor": 0
   }
  }
 },
 "nbformat": 4,
 "nbformat_minor": 5
}
